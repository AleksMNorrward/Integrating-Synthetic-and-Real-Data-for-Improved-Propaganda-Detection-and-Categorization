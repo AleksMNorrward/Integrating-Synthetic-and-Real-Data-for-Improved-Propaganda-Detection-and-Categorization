{
  "nbformat": 4,
  "nbformat_minor": 0,
  "metadata": {
    "colab": {
      "provenance": [],
      "collapsed_sections": [
        "00auxbN82OL4"
      ]
    },
    "kernelspec": {
      "name": "python3",
      "display_name": "Python 3"
    },
    "language_info": {
      "name": "python"
    }
  },
  "cells": [
    {
      "cell_type": "markdown",
      "source": [
        "# **Spade Agents** ☹️\n",
        "\n",
        "**Tutiroal:** https://spade-mas.readthedocs.io/en/latest/usage.html"
      ],
      "metadata": {
        "id": "00auxbN82OL4"
      }
    },
    {
      "cell_type": "code",
      "source": [
        "!pip install spade"
      ],
      "metadata": {
        "colab": {
          "base_uri": "https://localhost:8080/"
        },
        "id": "-I2wIGwSGUxG",
        "outputId": "584f01f6-575e-4b40-b879-9b184ffe3f52"
      },
      "execution_count": null,
      "outputs": [
        {
          "output_type": "stream",
          "name": "stdout",
          "text": [
            "Collecting spade\n",
            "  Downloading spade-3.3.2-py2.py3-none-any.whl (33 kB)\n",
            "Collecting multidict==5.2.0 (from spade)\n",
            "  Downloading multidict-5.2.0-cp310-cp310-manylinux_2_5_x86_64.manylinux1_x86_64.manylinux_2_12_x86_64.manylinux2010_x86_64.whl (175 kB)\n",
            "\u001b[2K     \u001b[90m━━━━━━━━━━━━━━━━━━━━━━━━━━━━━━━━━━━━━━━━\u001b[0m \u001b[32m175.1/175.1 kB\u001b[0m \u001b[31m1.7 MB/s\u001b[0m eta \u001b[36m0:00:00\u001b[0m\n",
            "\u001b[?25hCollecting pyasn1-modules==0.2.8 (from spade)\n",
            "  Downloading pyasn1_modules-0.2.8-py2.py3-none-any.whl (155 kB)\n",
            "\u001b[2K     \u001b[90m━━━━━━━━━━━━━━━━━━━━━━━━━━━━━━━━━━━━━━━━\u001b[0m \u001b[32m155.3/155.3 kB\u001b[0m \u001b[31m9.9 MB/s\u001b[0m eta \u001b[36m0:00:00\u001b[0m\n",
            "\u001b[?25hCollecting pyasn1==0.4.8 (from spade)\n",
            "  Downloading pyasn1-0.4.8-py2.py3-none-any.whl (77 kB)\n",
            "\u001b[2K     \u001b[90m━━━━━━━━━━━━━━━━━━━━━━━━━━━━━━━━━━━━━━━━\u001b[0m \u001b[32m77.1/77.1 kB\u001b[0m \u001b[31m1.1 MB/s\u001b[0m eta \u001b[36m0:00:00\u001b[0m\n",
            "\u001b[?25hCollecting aioxmpp==0.13.3 (from spade)\n",
            "  Downloading aioxmpp-0.13.3.tar.gz (387 kB)\n",
            "\u001b[2K     \u001b[90m━━━━━━━━━━━━━━━━━━━━━━━━━━━━━━━━━━━━━━━━\u001b[0m \u001b[32m387.4/387.4 kB\u001b[0m \u001b[31m8.2 MB/s\u001b[0m eta \u001b[36m0:00:00\u001b[0m\n",
            "\u001b[?25h  Preparing metadata (setup.py) ... \u001b[?25l\u001b[?25hdone\n",
            "Collecting aiohttp==3.8.4 (from spade)\n",
            "  Downloading aiohttp-3.8.4-cp310-cp310-manylinux_2_17_x86_64.manylinux2014_x86_64.whl (1.0 MB)\n",
            "\u001b[2K     \u001b[90m━━━━━━━━━━━━━━━━━━━━━━━━━━━━━━━━━━━━━━━━\u001b[0m \u001b[32m1.0/1.0 MB\u001b[0m \u001b[31m13.6 MB/s\u001b[0m eta \u001b[36m0:00:00\u001b[0m\n",
            "\u001b[?25hCollecting aiohttp-jinja2==1.5 (from spade)\n",
            "  Downloading aiohttp_jinja2-1.5-py3-none-any.whl (11 kB)\n",
            "Collecting jinja2==3.0.3 (from spade)\n",
            "  Downloading Jinja2-3.0.3-py3-none-any.whl (133 kB)\n",
            "\u001b[2K     \u001b[90m━━━━━━━━━━━━━━━━━━━━━━━━━━━━━━━━━━━━━━━━\u001b[0m \u001b[32m133.6/133.6 kB\u001b[0m \u001b[31m11.0 MB/s\u001b[0m eta \u001b[36m0:00:00\u001b[0m\n",
            "\u001b[?25hCollecting jinja2-time==0.2.0 (from spade)\n",
            "  Downloading jinja2_time-0.2.0-py2.py3-none-any.whl (6.4 kB)\n",
            "Collecting timeago==1.0.16 (from spade)\n",
            "  Downloading timeago-1.0.16-py3-none-any.whl (29 kB)\n",
            "Collecting singletonify==0.2.4 (from spade)\n",
            "  Downloading singletonify-0.2.4-py3-none-any.whl (3.2 kB)\n",
            "Collecting pytz==2022.1 (from spade)\n",
            "  Downloading pytz-2022.1-py2.py3-none-any.whl (503 kB)\n",
            "\u001b[2K     \u001b[90m━━━━━━━━━━━━━━━━━━━━━━━━━━━━━━━━━━━━━━━━\u001b[0m \u001b[32m503.5/503.5 kB\u001b[0m \u001b[31m30.1 MB/s\u001b[0m eta \u001b[36m0:00:00\u001b[0m\n",
            "\u001b[?25hRequirement already satisfied: attrs>=17.3.0 in /usr/local/lib/python3.10/dist-packages (from aiohttp==3.8.4->spade) (23.2.0)\n",
            "Requirement already satisfied: charset-normalizer<4.0,>=2.0 in /usr/local/lib/python3.10/dist-packages (from aiohttp==3.8.4->spade) (3.3.2)\n",
            "Requirement already satisfied: async-timeout<5.0,>=4.0.0a3 in /usr/local/lib/python3.10/dist-packages (from aiohttp==3.8.4->spade) (4.0.3)\n",
            "Requirement already satisfied: yarl<2.0,>=1.0 in /usr/local/lib/python3.10/dist-packages (from aiohttp==3.8.4->spade) (1.9.4)\n",
            "Requirement already satisfied: frozenlist>=1.1.1 in /usr/local/lib/python3.10/dist-packages (from aiohttp==3.8.4->spade) (1.4.1)\n",
            "Requirement already satisfied: aiosignal>=1.1.2 in /usr/local/lib/python3.10/dist-packages (from aiohttp==3.8.4->spade) (1.3.1)\n",
            "Collecting aiosasl>=0.3 (from aioxmpp==0.13.3->spade)\n",
            "  Downloading aiosasl-0.5.0.tar.gz (28 kB)\n",
            "  Preparing metadata (setup.py) ... \u001b[?25l\u001b[?25hdone\n",
            "Collecting aioopenssl>=0.1 (from aioxmpp==0.13.3->spade)\n",
            "  Downloading aioopenssl-0.6.0.tar.gz (15 kB)\n",
            "  Preparing metadata (setup.py) ... \u001b[?25l\u001b[?25hdone\n",
            "Requirement already satisfied: babel~=2.3 in /usr/local/lib/python3.10/dist-packages (from aioxmpp==0.13.3->spade) (2.14.0)\n",
            "Collecting dnspython<3.0,>=1.0 (from aioxmpp==0.13.3->spade)\n",
            "  Downloading dnspython-2.6.1-py3-none-any.whl (307 kB)\n",
            "\u001b[2K     \u001b[90m━━━━━━━━━━━━━━━━━━━━━━━━━━━━━━━━━━━━━━━━\u001b[0m \u001b[32m307.7/307.7 kB\u001b[0m \u001b[31m22.2 MB/s\u001b[0m eta \u001b[36m0:00:00\u001b[0m\n",
            "\u001b[?25hRequirement already satisfied: lxml~=4.0 in /usr/local/lib/python3.10/dist-packages (from aioxmpp==0.13.3->spade) (4.9.4)\n",
            "Collecting sortedcollections~=2.1 (from aioxmpp==0.13.3->spade)\n",
            "  Downloading sortedcollections-2.1.0-py3-none-any.whl (9.5 kB)\n",
            "Requirement already satisfied: pyOpenSSL in /usr/local/lib/python3.10/dist-packages (from aioxmpp==0.13.3->spade) (24.1.0)\n",
            "Requirement already satisfied: tzlocal>=1.2 in /usr/local/lib/python3.10/dist-packages (from aioxmpp==0.13.3->spade) (5.2)\n",
            "Requirement already satisfied: MarkupSafe>=2.0 in /usr/local/lib/python3.10/dist-packages (from jinja2==3.0.3->spade) (2.1.5)\n",
            "Collecting arrow (from jinja2-time==0.2.0->spade)\n",
            "  Downloading arrow-1.3.0-py3-none-any.whl (66 kB)\n",
            "\u001b[2K     \u001b[90m━━━━━━━━━━━━━━━━━━━━━━━━━━━━━━━━━━━━━━━━\u001b[0m \u001b[32m66.4/66.4 kB\u001b[0m \u001b[31m7.9 MB/s\u001b[0m eta \u001b[36m0:00:00\u001b[0m\n",
            "\u001b[?25hRequirement already satisfied: sortedcontainers in /usr/local/lib/python3.10/dist-packages (from sortedcollections~=2.1->aioxmpp==0.13.3->spade) (2.4.0)\n",
            "Requirement already satisfied: idna>=2.0 in /usr/local/lib/python3.10/dist-packages (from yarl<2.0,>=1.0->aiohttp==3.8.4->spade) (3.6)\n",
            "Requirement already satisfied: python-dateutil>=2.7.0 in /usr/local/lib/python3.10/dist-packages (from arrow->jinja2-time==0.2.0->spade) (2.8.2)\n",
            "Collecting types-python-dateutil>=2.8.10 (from arrow->jinja2-time==0.2.0->spade)\n",
            "  Downloading types_python_dateutil-2.9.0.20240316-py3-none-any.whl (9.7 kB)\n",
            "Requirement already satisfied: cryptography<43,>=41.0.5 in /usr/local/lib/python3.10/dist-packages (from pyOpenSSL->aioxmpp==0.13.3->spade) (42.0.5)\n",
            "Requirement already satisfied: cffi>=1.12 in /usr/local/lib/python3.10/dist-packages (from cryptography<43,>=41.0.5->pyOpenSSL->aioxmpp==0.13.3->spade) (1.16.0)\n",
            "Requirement already satisfied: six>=1.5 in /usr/local/lib/python3.10/dist-packages (from python-dateutil>=2.7.0->arrow->jinja2-time==0.2.0->spade) (1.16.0)\n",
            "Requirement already satisfied: pycparser in /usr/local/lib/python3.10/dist-packages (from cffi>=1.12->cryptography<43,>=41.0.5->pyOpenSSL->aioxmpp==0.13.3->spade) (2.22)\n",
            "Building wheels for collected packages: aioxmpp, aioopenssl, aiosasl\n",
            "  Building wheel for aioxmpp (setup.py) ... \u001b[?25l\u001b[?25hdone\n",
            "  Created wheel for aioxmpp: filename=aioxmpp-0.13.3-py3-none-any.whl size=471502 sha256=86d925c75c8671e52b667bc1cea57504e0bcca4048b4be1056c40b8f2efceaff\n",
            "  Stored in directory: /root/.cache/pip/wheels/5d/28/53/bdb68f91db762e542224a823ccf387aa4097c8a0dd7b6210a6\n",
            "  Building wheel for aioopenssl (setup.py) ... \u001b[?25l\u001b[?25hdone\n",
            "  Created wheel for aioopenssl: filename=aioopenssl-0.6.0-py3-none-any.whl size=15340 sha256=0f7569fcb8db9bf65499a5edd1e9bc029a195a6ba7e6acde315839213b6c8e2d\n",
            "  Stored in directory: /root/.cache/pip/wheels/75/30/d8/77f6a5aadc5e9833f5df0b2d5e85ef453b0f40d571a26f75cc\n",
            "  Building wheel for aiosasl (setup.py) ... \u001b[?25l\u001b[?25hdone\n",
            "  Created wheel for aiosasl: filename=aiosasl-0.5.0-py3-none-any.whl size=35823 sha256=574a06523d40ec57cbd0260fcc257bbc512460cdbade1308179d24f7f74fef98\n",
            "  Stored in directory: /root/.cache/pip/wheels/75/fa/4f/8a74a621e15801099f844a44893b21f8e1bb9f10004eb47586\n",
            "Successfully built aioxmpp aioopenssl aiosasl\n",
            "Installing collected packages: timeago, singletonify, pytz, pyasn1, aiosasl, types-python-dateutil, sortedcollections, pyasn1-modules, multidict, jinja2, dnspython, arrow, jinja2-time, aiohttp, aioopenssl, aiohttp-jinja2, aioxmpp, spade\n",
            "  Attempting uninstall: pytz\n",
            "    Found existing installation: pytz 2023.4\n",
            "    Uninstalling pytz-2023.4:\n",
            "      Successfully uninstalled pytz-2023.4\n",
            "  Attempting uninstall: pyasn1\n",
            "    Found existing installation: pyasn1 0.6.0\n",
            "    Uninstalling pyasn1-0.6.0:\n",
            "      Successfully uninstalled pyasn1-0.6.0\n",
            "  Attempting uninstall: pyasn1-modules\n",
            "    Found existing installation: pyasn1_modules 0.4.0\n",
            "    Uninstalling pyasn1_modules-0.4.0:\n",
            "      Successfully uninstalled pyasn1_modules-0.4.0\n",
            "  Attempting uninstall: multidict\n",
            "    Found existing installation: multidict 6.0.5\n",
            "    Uninstalling multidict-6.0.5:\n",
            "      Successfully uninstalled multidict-6.0.5\n",
            "  Attempting uninstall: jinja2\n",
            "    Found existing installation: Jinja2 3.1.3\n",
            "    Uninstalling Jinja2-3.1.3:\n",
            "      Successfully uninstalled Jinja2-3.1.3\n",
            "  Attempting uninstall: aiohttp\n",
            "    Found existing installation: aiohttp 3.9.3\n",
            "    Uninstalling aiohttp-3.9.3:\n",
            "      Successfully uninstalled aiohttp-3.9.3\n",
            "\u001b[31mERROR: pip's dependency resolver does not currently take into account all the packages that are installed. This behaviour is the source of the following dependency conflicts.\n",
            "torch 2.2.1+cu121 requires nvidia-cublas-cu12==12.1.3.1; platform_system == \"Linux\" and platform_machine == \"x86_64\", which is not installed.\n",
            "torch 2.2.1+cu121 requires nvidia-cuda-cupti-cu12==12.1.105; platform_system == \"Linux\" and platform_machine == \"x86_64\", which is not installed.\n",
            "torch 2.2.1+cu121 requires nvidia-cuda-nvrtc-cu12==12.1.105; platform_system == \"Linux\" and platform_machine == \"x86_64\", which is not installed.\n",
            "torch 2.2.1+cu121 requires nvidia-cuda-runtime-cu12==12.1.105; platform_system == \"Linux\" and platform_machine == \"x86_64\", which is not installed.\n",
            "torch 2.2.1+cu121 requires nvidia-cudnn-cu12==8.9.2.26; platform_system == \"Linux\" and platform_machine == \"x86_64\", which is not installed.\n",
            "torch 2.2.1+cu121 requires nvidia-cufft-cu12==11.0.2.54; platform_system == \"Linux\" and platform_machine == \"x86_64\", which is not installed.\n",
            "torch 2.2.1+cu121 requires nvidia-curand-cu12==10.3.2.106; platform_system == \"Linux\" and platform_machine == \"x86_64\", which is not installed.\n",
            "torch 2.2.1+cu121 requires nvidia-cusolver-cu12==11.4.5.107; platform_system == \"Linux\" and platform_machine == \"x86_64\", which is not installed.\n",
            "torch 2.2.1+cu121 requires nvidia-cusparse-cu12==12.1.0.106; platform_system == \"Linux\" and platform_machine == \"x86_64\", which is not installed.\n",
            "torch 2.2.1+cu121 requires nvidia-nccl-cu12==2.19.3; platform_system == \"Linux\" and platform_machine == \"x86_64\", which is not installed.\n",
            "torch 2.2.1+cu121 requires nvidia-nvtx-cu12==12.1.105; platform_system == \"Linux\" and platform_machine == \"x86_64\", which is not installed.\n",
            "ibis-framework 8.0.0 requires pytz>=2022.7, but you have pytz 2022.1 which is incompatible.\n",
            "yfinance 0.2.37 requires pytz>=2022.5, but you have pytz 2022.1 which is incompatible.\u001b[0m\u001b[31m\n",
            "\u001b[0mSuccessfully installed aiohttp-3.8.4 aiohttp-jinja2-1.5 aioopenssl-0.6.0 aiosasl-0.5.0 aioxmpp-0.13.3 arrow-1.3.0 dnspython-2.6.1 jinja2-3.0.3 jinja2-time-0.2.0 multidict-5.2.0 pyasn1-0.4.8 pyasn1-modules-0.2.8 pytz-2022.1 singletonify-0.2.4 sortedcollections-2.1.0 spade-3.3.2 timeago-1.0.16 types-python-dateutil-2.9.0.20240316\n"
          ]
        }
      ]
    },
    {
      "cell_type": "code",
      "source": [
        "import spade\n",
        "\n",
        "class DummyAgent(spade.agent.Agent):\n",
        "    async def setup(self):\n",
        "        print(\"Hello World! I'm agent {}\".format(str(self.jid)))\n",
        "\n",
        "async def main():\n",
        "    dummy = DummyAgent(\"your_jid@your_xmpp_server\", \"your_password\")\n",
        "    await dummy.start()\n",
        "\n",
        "if __name__ == \"__main__\":\n",
        "    spade.run(main())"
      ],
      "metadata": {
        "id": "A1q_SqxhIxZ-",
        "outputId": "0255ee75-bdf6-425d-bcc1-c6d477a0343d",
        "colab": {
          "base_uri": "https://localhost:8080/",
          "height": 365
        }
      },
      "execution_count": null,
      "outputs": [
        {
          "output_type": "stream",
          "name": "stderr",
          "text": [
            "ERROR:SPADE:Exception in the event loop: This event loop is already running\n"
          ]
        },
        {
          "output_type": "error",
          "ename": "RuntimeError",
          "evalue": "Cannot close a running event loop",
          "traceback": [
            "\u001b[0;31m---------------------------------------------------------------------------\u001b[0m",
            "\u001b[0;31mRuntimeError\u001b[0m                              Traceback (most recent call last)",
            "\u001b[0;32m<ipython-input-4-19cf8819627c>\u001b[0m in \u001b[0;36m<cell line: 11>\u001b[0;34m()\u001b[0m\n\u001b[1;32m     10\u001b[0m \u001b[0;34m\u001b[0m\u001b[0m\n\u001b[1;32m     11\u001b[0m \u001b[0;32mif\u001b[0m \u001b[0m__name__\u001b[0m \u001b[0;34m==\u001b[0m \u001b[0;34m\"__main__\"\u001b[0m\u001b[0;34m:\u001b[0m\u001b[0;34m\u001b[0m\u001b[0;34m\u001b[0m\u001b[0m\n\u001b[0;32m---> 12\u001b[0;31m     \u001b[0mspade\u001b[0m\u001b[0;34m.\u001b[0m\u001b[0mrun\u001b[0m\u001b[0;34m(\u001b[0m\u001b[0mmain\u001b[0m\u001b[0;34m(\u001b[0m\u001b[0;34m)\u001b[0m\u001b[0;34m)\u001b[0m\u001b[0;34m\u001b[0m\u001b[0;34m\u001b[0m\u001b[0m\n\u001b[0m",
            "\u001b[0;32m/usr/local/lib/python3.10/dist-packages/spade/container.py\u001b[0m in \u001b[0;36mrun_container\u001b[0;34m(main_func)\u001b[0m\n\u001b[1;32m    127\u001b[0m             \u001b[0mcontainer\u001b[0m\u001b[0;34m.\u001b[0m\u001b[0mrun\u001b[0m\u001b[0;34m(\u001b[0m\u001b[0mtask\u001b[0m\u001b[0;34m)\u001b[0m\u001b[0;34m\u001b[0m\u001b[0;34m\u001b[0m\u001b[0m\n\u001b[1;32m    128\u001b[0m \u001b[0;34m\u001b[0m\u001b[0m\n\u001b[0;32m--> 129\u001b[0;31m     \u001b[0mcontainer\u001b[0m\u001b[0;34m.\u001b[0m\u001b[0mloop\u001b[0m\u001b[0;34m.\u001b[0m\u001b[0mclose\u001b[0m\u001b[0;34m(\u001b[0m\u001b[0;34m)\u001b[0m\u001b[0;34m\u001b[0m\u001b[0;34m\u001b[0m\u001b[0m\n\u001b[0m\u001b[1;32m    130\u001b[0m     \u001b[0mlogger\u001b[0m\u001b[0;34m.\u001b[0m\u001b[0mdebug\u001b[0m\u001b[0;34m(\u001b[0m\u001b[0;34m\"Loop closed\"\u001b[0m\u001b[0;34m)\u001b[0m\u001b[0;34m\u001b[0m\u001b[0;34m\u001b[0m\u001b[0m\n",
            "\u001b[0;32m/usr/lib/python3.10/asyncio/unix_events.py\u001b[0m in \u001b[0;36mclose\u001b[0;34m(self)\u001b[0m\n\u001b[1;32m     66\u001b[0m \u001b[0;34m\u001b[0m\u001b[0m\n\u001b[1;32m     67\u001b[0m     \u001b[0;32mdef\u001b[0m \u001b[0mclose\u001b[0m\u001b[0;34m(\u001b[0m\u001b[0mself\u001b[0m\u001b[0;34m)\u001b[0m\u001b[0;34m:\u001b[0m\u001b[0;34m\u001b[0m\u001b[0;34m\u001b[0m\u001b[0m\n\u001b[0;32m---> 68\u001b[0;31m         \u001b[0msuper\u001b[0m\u001b[0;34m(\u001b[0m\u001b[0;34m)\u001b[0m\u001b[0;34m.\u001b[0m\u001b[0mclose\u001b[0m\u001b[0;34m(\u001b[0m\u001b[0;34m)\u001b[0m\u001b[0;34m\u001b[0m\u001b[0;34m\u001b[0m\u001b[0m\n\u001b[0m\u001b[1;32m     69\u001b[0m         \u001b[0;32mif\u001b[0m \u001b[0;32mnot\u001b[0m \u001b[0msys\u001b[0m\u001b[0;34m.\u001b[0m\u001b[0mis_finalizing\u001b[0m\u001b[0;34m(\u001b[0m\u001b[0;34m)\u001b[0m\u001b[0;34m:\u001b[0m\u001b[0;34m\u001b[0m\u001b[0;34m\u001b[0m\u001b[0m\n\u001b[1;32m     70\u001b[0m             \u001b[0;32mfor\u001b[0m \u001b[0msig\u001b[0m \u001b[0;32min\u001b[0m \u001b[0mlist\u001b[0m\u001b[0;34m(\u001b[0m\u001b[0mself\u001b[0m\u001b[0;34m.\u001b[0m\u001b[0m_signal_handlers\u001b[0m\u001b[0;34m)\u001b[0m\u001b[0;34m:\u001b[0m\u001b[0;34m\u001b[0m\u001b[0;34m\u001b[0m\u001b[0m\n",
            "\u001b[0;32m/usr/lib/python3.10/asyncio/selector_events.py\u001b[0m in \u001b[0;36mclose\u001b[0;34m(self)\u001b[0m\n\u001b[1;32m     82\u001b[0m     \u001b[0;32mdef\u001b[0m \u001b[0mclose\u001b[0m\u001b[0;34m(\u001b[0m\u001b[0mself\u001b[0m\u001b[0;34m)\u001b[0m\u001b[0;34m:\u001b[0m\u001b[0;34m\u001b[0m\u001b[0;34m\u001b[0m\u001b[0m\n\u001b[1;32m     83\u001b[0m         \u001b[0;32mif\u001b[0m \u001b[0mself\u001b[0m\u001b[0;34m.\u001b[0m\u001b[0mis_running\u001b[0m\u001b[0;34m(\u001b[0m\u001b[0;34m)\u001b[0m\u001b[0;34m:\u001b[0m\u001b[0;34m\u001b[0m\u001b[0;34m\u001b[0m\u001b[0m\n\u001b[0;32m---> 84\u001b[0;31m             \u001b[0;32mraise\u001b[0m \u001b[0mRuntimeError\u001b[0m\u001b[0;34m(\u001b[0m\u001b[0;34m\"Cannot close a running event loop\"\u001b[0m\u001b[0;34m)\u001b[0m\u001b[0;34m\u001b[0m\u001b[0;34m\u001b[0m\u001b[0m\n\u001b[0m\u001b[1;32m     85\u001b[0m         \u001b[0;32mif\u001b[0m \u001b[0mself\u001b[0m\u001b[0;34m.\u001b[0m\u001b[0mis_closed\u001b[0m\u001b[0;34m(\u001b[0m\u001b[0;34m)\u001b[0m\u001b[0;34m:\u001b[0m\u001b[0;34m\u001b[0m\u001b[0;34m\u001b[0m\u001b[0m\n\u001b[1;32m     86\u001b[0m             \u001b[0;32mreturn\u001b[0m\u001b[0;34m\u001b[0m\u001b[0;34m\u001b[0m\u001b[0m\n",
            "\u001b[0;31mRuntimeError\u001b[0m: Cannot close a running event loop"
          ]
        }
      ]
    },
    {
      "cell_type": "code",
      "execution_count": null,
      "metadata": {
        "colab": {
          "base_uri": "https://localhost:8080/"
        },
        "id": "RfJAvunrGBWY",
        "outputId": "11328409-37d3-42ec-b625-cd7753376c45"
      },
      "outputs": [
        {
          "output_type": "stream",
          "name": "stderr",
          "text": [
            "<ipython-input-3-f1ffa7b474c6>:15: RuntimeWarning: coroutine 'Agent.start' was never awaited\n",
            "  agent.start()\n",
            "RuntimeWarning: Enable tracemalloc to get the object allocation traceback\n"
          ]
        }
      ],
      "source": [
        "from spade import agent\n",
        "from spade.behaviour import OneShotBehaviour\n",
        "\n",
        "class HelloWorldAgent(agent.Agent):\n",
        "    async def setup(self):\n",
        "        print(\"Hello, I'm an agent!\")\n",
        "        self.add_behaviour(self.HelloWorldBehaviour())\n",
        "\n",
        "    class HelloWorldBehaviour(OneShotBehaviour):\n",
        "        async def run(self):\n",
        "            print(\"Hello, World!\")\n",
        "\n",
        "if __name__ == \"__main__\":\n",
        "    agent = HelloWorldAgent(\"hello@localhost\", \"password\")\n",
        "    agent.start()\n"
      ]
    },
    {
      "cell_type": "code",
      "source": [
        "from spade import agent\n",
        "\n",
        "class HelloWorldAgent(agent.Agent):\n",
        "    async def setup(self):\n",
        "        print(\"Hello, World!\")\n",
        "\n",
        "if __name__ == \"__main__\":\n",
        "    agent = HelloWorldAgent(\"hello@localhost\", \"password\")\n",
        "    agent.start()\n"
      ],
      "metadata": {
        "id": "FAvtrmO86msy",
        "colab": {
          "base_uri": "https://localhost:8080/"
        },
        "outputId": "3081a1ca-7745-4c53-d294-ddff3f16d7b6"
      },
      "execution_count": null,
      "outputs": [
        {
          "output_type": "stream",
          "name": "stderr",
          "text": [
            "<ipython-input-3-63f2d977fe89>:9: RuntimeWarning: coroutine 'Agent.start' was never awaited\n",
            "  agent.start()\n",
            "RuntimeWarning: Enable tracemalloc to get the object allocation traceback\n"
          ]
        }
      ]
    },
    {
      "cell_type": "markdown",
      "source": [
        "# **Mesa Agents**\n",
        "\n",
        "**Tutorial:** https://mesa.readthedocs.io/en/latest/tutorials/intro_tutorial.html"
      ],
      "metadata": {
        "id": "3X2Y441p107d"
      }
    },
    {
      "cell_type": "code",
      "source": [
        "%pip install --quiet mesa"
      ],
      "metadata": {
        "colab": {
          "base_uri": "https://localhost:8080/"
        },
        "id": "rxb_jhOT0iYO",
        "outputId": "e97f7cff-1de2-4482-8f93-036b8702178d"
      },
      "execution_count": null,
      "outputs": [
        {
          "output_type": "stream",
          "name": "stdout",
          "text": [
            "\u001b[2K     \u001b[90m━━━━━━━━━━━━━━━━━━━━━━━━━━━━━━━━━━━━━━━━\u001b[0m \u001b[32m47.4/47.4 kB\u001b[0m \u001b[31m618.0 kB/s\u001b[0m eta \u001b[36m0:00:00\u001b[0m\n",
            "\u001b[2K     \u001b[90m━━━━━━━━━━━━━━━━━━━━━━━━━━━━━━━━━━━━━━━━\u001b[0m \u001b[32m1.6/1.6 MB\u001b[0m \u001b[31m10.6 MB/s\u001b[0m eta \u001b[36m0:00:00\u001b[0m\n",
            "\u001b[2K     \u001b[90m━━━━━━━━━━━━━━━━━━━━━━━━━━━━━━━━━━━━━━━━\u001b[0m \u001b[32m66.4/66.4 kB\u001b[0m \u001b[31m1.4 MB/s\u001b[0m eta \u001b[36m0:00:00\u001b[0m\n",
            "\u001b[2K     \u001b[90m━━━━━━━━━━━━━━━━━━━━━━━━━━━━━━━━━━━━━━━━\u001b[0m \u001b[32m1.2/1.2 MB\u001b[0m \u001b[31m31.2 MB/s\u001b[0m eta \u001b[36m0:00:00\u001b[0m\n",
            "\u001b[2K     \u001b[90m━━━━━━━━━━━━━━━━━━━━━━━━━━━━━━━━━━━━━━━━\u001b[0m \u001b[32m105.9/105.9 kB\u001b[0m \u001b[31m8.0 MB/s\u001b[0m eta \u001b[36m0:00:00\u001b[0m\n",
            "\u001b[2K     \u001b[90m━━━━━━━━━━━━━━━━━━━━━━━━━━━━━━━━━━━━━━━━\u001b[0m \u001b[32m83.0/83.0 kB\u001b[0m \u001b[31m4.8 MB/s\u001b[0m eta \u001b[36m0:00:00\u001b[0m\n",
            "\u001b[2K     \u001b[90m━━━━━━━━━━━━━━━━━━━━━━━━━━━━━━━━━━━━━━━━\u001b[0m \u001b[32m1.3/1.3 MB\u001b[0m \u001b[31m31.6 MB/s\u001b[0m eta \u001b[36m0:00:00\u001b[0m\n",
            "\u001b[2K     \u001b[90m━━━━━━━━━━━━━━━━━━━━━━━━━━━━━━━━━━━━━━━━\u001b[0m \u001b[32m71.9/71.9 kB\u001b[0m \u001b[31m5.5 MB/s\u001b[0m eta \u001b[36m0:00:00\u001b[0m\n",
            "\u001b[2K     \u001b[90m━━━━━━━━━━━━━━━━━━━━━━━━━━━━━━━━━━━━━━━━\u001b[0m \u001b[32m60.8/60.8 kB\u001b[0m \u001b[31m3.9 MB/s\u001b[0m eta \u001b[36m0:00:00\u001b[0m\n",
            "\u001b[2K     \u001b[90m━━━━━━━━━━━━━━━━━━━━━━━━━━━━━━━━━━━━━━━━\u001b[0m \u001b[32m130.2/130.2 kB\u001b[0m \u001b[31m5.2 MB/s\u001b[0m eta \u001b[36m0:00:00\u001b[0m\n",
            "\u001b[2K     \u001b[90m━━━━━━━━━━━━━━━━━━━━━━━━━━━━━━━━━━━━━━━━\u001b[0m \u001b[32m2.7/2.7 MB\u001b[0m \u001b[31m60.3 MB/s\u001b[0m eta \u001b[36m0:00:00\u001b[0m\n",
            "\u001b[2K     \u001b[90m━━━━━━━━━━━━━━━━━━━━━━━━━━━━━━━━━━━━━━━━\u001b[0m \u001b[32m6.1/6.1 MB\u001b[0m \u001b[31m53.5 MB/s\u001b[0m eta \u001b[36m0:00:00\u001b[0m\n",
            "\u001b[2K     \u001b[90m━━━━━━━━━━━━━━━━━━━━━━━━━━━━━━━━━━━━━━━━\u001b[0m \u001b[32m107.9/107.9 kB\u001b[0m \u001b[31m11.8 MB/s\u001b[0m eta \u001b[36m0:00:00\u001b[0m\n",
            "\u001b[2K     \u001b[90m━━━━━━━━━━━━━━━━━━━━━━━━━━━━━━━━━━━━━━━━\u001b[0m \u001b[32m250.8/250.8 kB\u001b[0m \u001b[31m14.2 MB/s\u001b[0m eta \u001b[36m0:00:00\u001b[0m\n",
            "\u001b[2K     \u001b[90m━━━━━━━━━━━━━━━━━━━━━━━━━━━━━━━━━━━━━━━━\u001b[0m \u001b[32m58.3/58.3 kB\u001b[0m \u001b[31m3.0 MB/s\u001b[0m eta \u001b[36m0:00:00\u001b[0m\n",
            "\u001b[2K     \u001b[90m━━━━━━━━━━━━━━━━━━━━━━━━━━━━━━━━━━━━━━━━\u001b[0m \u001b[32m1.6/1.6 MB\u001b[0m \u001b[31m65.7 MB/s\u001b[0m eta \u001b[36m0:00:00\u001b[0m\n",
            "\u001b[2K     \u001b[90m━━━━━━━━━━━━━━━━━━━━━━━━━━━━━━━━━━━━━━━━\u001b[0m \u001b[32m133.5/133.5 kB\u001b[0m \u001b[31m12.2 MB/s\u001b[0m eta \u001b[36m0:00:00\u001b[0m\n",
            "\u001b[?25h"
          ]
        }
      ]
    },
    {
      "cell_type": "code",
      "source": [
        "import mesa\n",
        "\n",
        "# Data visualization tools.\n",
        "import seaborn as sns\n",
        "\n",
        "# Has multi-dimensional arrays and matrices. Has a large collection of\n",
        "# mathematical functions to operate on these arrays.\n",
        "import numpy as np\n",
        "\n",
        "# Data manipulation and analysis.\n",
        "import pandas as pd"
      ],
      "metadata": {
        "id": "Qzc6b7CX0jnh"
      },
      "execution_count": null,
      "outputs": []
    },
    {
      "cell_type": "code",
      "source": [
        "from mesa import Agent, Model\n",
        "from mesa.time import RandomActivation\n",
        "\n",
        "class HelloWorldAgent(Agent):\n",
        "    \"\"\" An agent with a simple hello world behavior.\"\"\"\n",
        "    def __init__(self, unique_id, model):\n",
        "        super().__init__(unique_id, model)\n",
        "\n",
        "    def step(self):\n",
        "        print(\"Hello, World! I am agent {}\".format(self.unique_id))\n",
        "\n",
        "class HelloWorldModel(Model):\n",
        "    \"\"\"A model with some number of agents.\"\"\"\n",
        "    def __init__(self, N):\n",
        "        super().__init__()\n",
        "        self.num_agents = N\n",
        "        self.schedule = RandomActivation(self)\n",
        "\n",
        "        # Create agents\n",
        "        for i in range(self.num_agents):\n",
        "            a = HelloWorldAgent(i, self)\n",
        "            self.schedule.add(a)\n",
        "\n",
        "    def step(self):\n",
        "        self.schedule.step()\n",
        "\n",
        "# Create a model with 10 agents\n",
        "model = HelloWorldModel(10)\n",
        "\n",
        "# Run the model for 5 steps\n",
        "for i in range(5):\n",
        "    model.step()\n"
      ],
      "metadata": {
        "colab": {
          "base_uri": "https://localhost:8080/"
        },
        "id": "uzs38FKi1O9q",
        "outputId": "6abfc7d9-da1d-48df-9d5d-3aec5d57f881"
      },
      "execution_count": null,
      "outputs": [
        {
          "output_type": "stream",
          "name": "stdout",
          "text": [
            "Hello, World! I am agent 7\n",
            "Hello, World! I am agent 4\n",
            "Hello, World! I am agent 0\n",
            "Hello, World! I am agent 6\n",
            "Hello, World! I am agent 8\n",
            "Hello, World! I am agent 5\n",
            "Hello, World! I am agent 1\n",
            "Hello, World! I am agent 2\n",
            "Hello, World! I am agent 3\n",
            "Hello, World! I am agent 9\n",
            "Hello, World! I am agent 8\n",
            "Hello, World! I am agent 9\n",
            "Hello, World! I am agent 7\n",
            "Hello, World! I am agent 0\n",
            "Hello, World! I am agent 1\n",
            "Hello, World! I am agent 3\n",
            "Hello, World! I am agent 4\n",
            "Hello, World! I am agent 2\n",
            "Hello, World! I am agent 6\n",
            "Hello, World! I am agent 5\n",
            "Hello, World! I am agent 9\n",
            "Hello, World! I am agent 6\n",
            "Hello, World! I am agent 7\n",
            "Hello, World! I am agent 5\n",
            "Hello, World! I am agent 2\n",
            "Hello, World! I am agent 1\n",
            "Hello, World! I am agent 3\n",
            "Hello, World! I am agent 4\n",
            "Hello, World! I am agent 0\n",
            "Hello, World! I am agent 8\n",
            "Hello, World! I am agent 5\n",
            "Hello, World! I am agent 4\n",
            "Hello, World! I am agent 7\n",
            "Hello, World! I am agent 0\n",
            "Hello, World! I am agent 8\n",
            "Hello, World! I am agent 2\n",
            "Hello, World! I am agent 6\n",
            "Hello, World! I am agent 9\n",
            "Hello, World! I am agent 1\n",
            "Hello, World! I am agent 3\n",
            "Hello, World! I am agent 3\n",
            "Hello, World! I am agent 8\n",
            "Hello, World! I am agent 7\n",
            "Hello, World! I am agent 9\n",
            "Hello, World! I am agent 4\n",
            "Hello, World! I am agent 6\n",
            "Hello, World! I am agent 1\n",
            "Hello, World! I am agent 2\n",
            "Hello, World! I am agent 0\n",
            "Hello, World! I am agent 5\n"
          ]
        },
        {
          "output_type": "stream",
          "name": "stderr",
          "text": [
            "/usr/local/lib/python3.10/dist-packages/mesa/time.py:82: FutureWarning: The AgentSet is experimental. It may be changed or removed in any and all future releases, including patch releases.\n",
            "We would love to hear what you think about this new feature. If you have any thoughts, share them with us here: https://github.com/projectmesa/mesa/discussions/1919\n",
            "  self._agents: AgentSet = AgentSet(agents, model)\n"
          ]
        }
      ]
    },
    {
      "cell_type": "code",
      "source": [
        "from mesa import Agent, Model\n",
        "from mesa.time import RandomActivation\n",
        "\n",
        "class BdiAgent(Agent):\n",
        "    \"\"\"An agent with beliefs, desires, and intentions.\"\"\"\n",
        "    def __init__(self, unique_id, model):\n",
        "        super().__init__(unique_id, model)\n",
        "        self.beliefs = {}\n",
        "        self.desires = []\n",
        "        self.intentions = []\n",
        "\n",
        "    def perceive(self, environment):\n",
        "        \"\"\"Update beliefs based on environment.\"\"\"\n",
        "        self.beliefs.update(environment)\n",
        "\n",
        "    def select_desires(self):\n",
        "        \"\"\"Select desires based on beliefs.\"\"\"\n",
        "        # Example: Select desires based on certain conditions in beliefs\n",
        "        if 'hungry' in self.beliefs:\n",
        "            self.desires.append('eat')\n",
        "        if 'tired' in self.beliefs:\n",
        "            self.desires.append('rest')\n",
        "\n",
        "    def form_intentions(self):\n",
        "        \"\"\"Form intentions based on selected desires.\"\"\"\n",
        "        # Example: Form intentions based on the first selected desire\n",
        "        if self.desires:\n",
        "            self.intentions.append(self.desires[0])\n",
        "\n",
        "    def act(self):\n",
        "        \"\"\"Execute actions based on intentions.\"\"\"\n",
        "        # Example: Execute actions based on intentions\n",
        "        for intention in self.intentions:\n",
        "            if intention == 'eat':\n",
        "                print(\"Agent {} is eating.\".format(self.unique_id))\n",
        "            elif intention == 'rest':\n",
        "                print(\"Agent {} is resting.\".format(self.unique_id))\n",
        "            else:\n",
        "                print(\"Agent {} has no action for intention {}.\".format(self.unique_id, intention))\n",
        "\n",
        "class BdiModel(Model):\n",
        "    \"\"\"A model containing BDI agents.\"\"\"\n",
        "    def __init__(self, N):\n",
        "        super().__init__()\n",
        "        self.schedule = RandomActivation(self)\n",
        "        for i in range(N):\n",
        "            a = BdiAgent(i, self)\n",
        "            self.schedule.add(a)\n",
        "\n",
        "    def step(self):\n",
        "        \"\"\"Advance the model by one step.\"\"\"\n",
        "        self.schedule.step()\n",
        "\n",
        "# Create a BDI model with 3 agents\n",
        "model = BdiModel(3)\n",
        "\n",
        "# Example environment\n",
        "environment = {'hungry': True, 'tired': False}\n",
        "\n",
        "# Run the model for one step\n",
        "model.step()\n",
        "\n",
        "# Update agents' beliefs based on environment\n",
        "for agent in model.schedule.agents:\n",
        "    agent.perceive(environment)\n",
        "    agent.select_desires()\n",
        "    agent.form_intentions()\n",
        "    agent.act()\n"
      ],
      "metadata": {
        "colab": {
          "base_uri": "https://localhost:8080/"
        },
        "id": "DvS983TaST6E",
        "outputId": "6640dd0f-1ae3-47a3-c220-748690dfa57a"
      },
      "execution_count": null,
      "outputs": [
        {
          "output_type": "stream",
          "name": "stdout",
          "text": [
            "Agent 1 is eating.\n",
            "Agent 0 is eating.\n",
            "Agent 2 is eating.\n"
          ]
        },
        {
          "output_type": "stream",
          "name": "stderr",
          "text": [
            "/usr/local/lib/python3.10/dist-packages/mesa/time.py:82: FutureWarning: The AgentSet is experimental. It may be changed or removed in any and all future releases, including patch releases.\n",
            "We would love to hear what you think about this new feature. If you have any thoughts, share them with us here: https://github.com/projectmesa/mesa/discussions/1919\n",
            "  self._agents: AgentSet = AgentSet(agents, model)\n"
          ]
        }
      ]
    }
  ]
}